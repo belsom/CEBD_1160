{
 "cells": [
  {
   "cell_type": "code",
   "execution_count": null,
   "metadata": {},
   "outputs": [],
   "source": [
    "#Check what's the type of the following values in the python:\n",
    "# 1  , 3.14 , \"Big Data!\" , 'Big Data!' , True , False , [1,2,\"intruder\",3]\n",
    "\n",
    "myInt = 1\n",
    "myFloat = 3.14\n",
    "myDoubleQuoteString = \"Big Data!\"\n",
    "mySimpleQuoteString = 'Big Data!'\n",
    "myTrueBoolean = True\n",
    "myFalseBoolean = False\n",
    "myList = [1,2,\"intruder\",3]\n",
    "\n",
    "print(type(myInt), type(myFloat), type(myDoubleQuoteString), type(mySimpleQuoteString), type(myTrueBoolean), type(myFalseBoolean), type(myList))\n"
   ]
  },
  {
   "cell_type": "code",
   "execution_count": null,
   "metadata": {},
   "outputs": [],
   "source": [
    "#Write a script that prints the integers from 1 to 100. For multiples of three print \"Fizz\" instead\n",
    "# and for the multiples of five print \"Buzz\". For numbers which are multiples of both print \"FizzBuzz\"\n",
    "\n",
    "for i in range (1, 100):\n",
    "    if i % 3 == 0 and i % 5 == 0:\n",
    "        print(\"FizzBuzz\")\n",
    "    elif i % 3 == 0 :\n",
    "        print('Fizz')\n",
    "    elif i % 5 == 0:\n",
    "        print('Buzz')\n",
    "    else:\n",
    "        print(i)"
   ]
  },
  {
   "cell_type": "code",
   "execution_count": null,
   "metadata": {},
   "outputs": [],
   "source": [
    "#Could you find the maximum or minimum integer value in a list. If we list all the natural\n",
    "#numbers below 10 that are multiples of 3 or 5, we get 3, 5, 6 and 9. The sum of these\n",
    "#multiples is 23. Find the sum of all the multiples of 3 or 5 below 1000.\n",
    "x = list(range(10))\n",
    "print (x)\n",
    "minimum = min(x)\n",
    "maximum = max(x)\n",
    "print(\"The minimum value of the list is : \", minimum)\n",
    "print('The maximum value of the list is : ',maximum)\n",
    "print('The sum of all multiples of 3 or 5 below 1000 is:',sum([i for i in range(1000) if i%3==0 or i%5==0]))"
   ]
  },
  {
   "cell_type": "code",
   "execution_count": null,
   "metadata": {},
   "outputs": [],
   "source": [
    "#Write a script that takes out all the vowels and response with shortened version the string.\n",
    "#Your script should not be case sensitive.\n",
    "def removeVowel(sentence):\n",
    "    vowels = \"aeiouAEIOU\"\n",
    "    for char in vowels:\n",
    "        sentence = sentence.replace(char, \"\")\n",
    "    return sentence"
   ]
  },
  {
   "cell_type": "code",
   "execution_count": null,
   "metadata": {},
   "outputs": [],
   "source": [
    "removeVowel(\"Sombel Ndiaye\")"
   ]
  },
  {
   "cell_type": "code",
   "execution_count": null,
   "metadata": {},
   "outputs": [],
   "source": [
    "userInput = input(\"Enter a string with vowels to remove: \")\n",
    "print(\"Your input is: \" + str(userInput))\n",
    "vowels = ('a','e','i','o','u','A','E','I','O','U')\n",
    "newString = \"\"\n",
    "for i in range(0,len(userInput),1):\n",
    "    if userInput[i] in vowels:\n",
    "        print ('')\n",
    "    else:\n",
    "        newString += userInput[i]\n",
    "print(\"Your input without vowels gives: \" + newString)"
   ]
  },
  {
   "cell_type": "code",
   "execution_count": null,
   "metadata": {},
   "outputs": [],
   "source": [
    "#Write a Python program to count the number of characters (character frequency) in a string\n",
    "strg = \"Sombel Ndiaye\"  \n",
    "frequency = {}  \n",
    "for i in strg: \n",
    "    if i in frequency: \n",
    "        frequency[i] += 1\n",
    "    else: \n",
    "        frequency[i] = 1\n",
    "print(frequency)"
   ]
  },
  {
   "cell_type": "code",
   "execution_count": 10,
   "metadata": {},
   "outputs": [
    {
     "data": {
      "text/plain": [
       "Counter({'S': 1,\n",
       "         'o': 1,\n",
       "         'm': 1,\n",
       "         'b': 1,\n",
       "         'e': 2,\n",
       "         'l': 1,\n",
       "         'N': 1,\n",
       "         'd': 1,\n",
       "         'i': 1,\n",
       "         'a': 1,\n",
       "         'y': 1})"
      ]
     },
     "execution_count": 10,
     "metadata": {},
     "output_type": "execute_result"
    }
   ],
   "source": [
    "from collections import Counter\n",
    "Counter('SombelNdiaye')"
   ]
  },
  {
   "cell_type": "code",
   "execution_count": 1,
   "metadata": {},
   "outputs": [
    {
     "name": "stdout",
     "output_type": "stream",
     "text": [
      "[('l', 3), ('S', 2), ('e', 2), (' ', 2), ('y', 2), ('a', 2), ('o', 1), ('m', 1), ('b', 1), ('N', 1), ('d', 1), ('i', 1)]\n",
      "[('o', 1), ('m', 1), ('b', 1), ('N', 1), ('d', 1), ('i', 1), ('S', 2), ('e', 2), (' ', 2), ('y', 2), ('a', 2), ('l', 3)]\n"
     ]
    }
   ],
   "source": [
    "string = 'Sombel Sylla Ndiaye'\n",
    "l1 = ['Earth', 'Earth', 'Earth', 'Earth', 'Earth', 'Mars', 'Mars', 'Mars', 'Mars', 'Jupiter', 'Jupiter', 'Jupiter']\n",
    "\n",
    "# function to count characters\n",
    "def count_caracters(l):\n",
    "    d = {} #initialize an empty list\n",
    "    for i in l:\n",
    "        if i not in d:\n",
    "            d[i] = 1\n",
    "        else:\n",
    "            d[i] += 1\n",
    "    count_sorted_repetition_desc = sorted(d.items(), key = lambda t: t[1], reverse=True)\n",
    "    count_sorted_alphabetical = sorted(d.items(), key = lambda t: t[1], reverse=False)\n",
    "    \n",
    "    print(count_sorted_repetition_desc)\n",
    "    print(count_sorted_alphabetical)\n",
    "    \n",
    "count_caracters(string)"
   ]
  },
  {
   "cell_type": "code",
   "execution_count": 20,
   "metadata": {},
   "outputs": [
    {
     "name": "stdout",
     "output_type": "stream",
     "text": [
      "[('occurrences', 3), ('only', 2), ('Counting', 1), ('of', 1), ('each', 1), ('word', 1), ('in', 1), ('this', 1), ('string.', 1), ('the', 1), (',', 1), ('counting', 1)]\n"
     ]
    }
   ],
   "source": [
    "#Write a Python program to count the occurrences of each word in a given sentence.\n",
    "string1 = 'Counting occurrences of each word in this string. only the occurrences , occurrences counting only'\n",
    "def count_words(s): \n",
    "    d = {}  #initialization empty\n",
    "    for i in s.split():\n",
    "        if i not in d:\n",
    "            d[i] = 1\n",
    "        else:\n",
    "            d[i] += 1\n",
    "    countSorted = sorted(d.items(), key = lambda t: t[1], reverse=True) #using lambda function \n",
    "    print(countSorted)\n",
    "    \n",
    "count_words(string1)"
   ]
  },
  {
   "cell_type": "code",
   "execution_count": 31,
   "metadata": {},
   "outputs": [
    {
     "name": "stdout",
     "output_type": "stream",
     "text": [
      "[1, 3, 2, 5, 4, 8, 0, 9, 6, 7]\n",
      "[0, 1, 2, 2, 3, 4, 5, 5, 5, 6, 7, 8, 8, 9]\n"
     ]
    }
   ],
   "source": [
    "#Write a program that reads two lists of numbers (4 items minimum) and merge them by sorting them out ignoring duplicates\n",
    "first_list = [1, 3, 2, 5, 4, 8, 0]\n",
    "second_list = [2, 6, 5, 8, 7, 5, 9]\n",
    "\n",
    "#in_first = set(first_list)\n",
    "#in_second = set(second_list)\n",
    "\n",
    "#in_second_but_not_in_first = in_second - in_first\n",
    "\n",
    "#result = first_list + list(in_second_but_not_in_first)\n",
    "#print (result)  # Prints [1, 2, 2, 5, 9, 7]\n",
    "print (first_list + list(set(second_list) - set(first_list)))\n",
    "print (sorted(first_list + second_list) )\n"
   ]
  },
  {
   "cell_type": "code",
   "execution_count": null,
   "metadata": {},
   "outputs": [],
   "source": []
  }
 ],
 "metadata": {
  "kernelspec": {
   "display_name": "Python 3",
   "language": "python",
   "name": "python3"
  },
  "language_info": {
   "codemirror_mode": {
    "name": "ipython",
    "version": 3
   },
   "file_extension": ".py",
   "mimetype": "text/x-python",
   "name": "python",
   "nbconvert_exporter": "python",
   "pygments_lexer": "ipython3",
   "version": "3.7.3"
  }
 },
 "nbformat": 4,
 "nbformat_minor": 2
}
