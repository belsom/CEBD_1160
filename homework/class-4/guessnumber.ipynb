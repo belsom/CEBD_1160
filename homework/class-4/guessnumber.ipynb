{
 "cells": [
  {
   "cell_type": "code",
   "execution_count": null,
   "metadata": {},
   "outputs": [],
   "source": [
    "import random\n",
    "\n",
    "numberofGuesses = 0\n",
    "number = random.randint(1,200)\n",
    "#print(number)\n",
    "name = input(\"Hello! What is your name? \")\n",
    "\n",
    "print(name + \", I am thinking of a whole number between 1 and 200. Can you guess what it is?\")\n",
    "\n",
    "while numberofGuesses < 6:\n",
    "  guess = input(\"Take a guess \")\n",
    "  guess = int(guess)\n",
    "  \n",
    "  numberofGuesses = numberofGuesses + 1;\n",
    "  guessesLeft = 6 - numberofGuesses;\n",
    "\n",
    "  if guess < number:\n",
    "    guessesLeft=str(guessesLeft)\n",
    "    print(\"Way lower! You have \" + guessesLeft + \" guesses left\")\n",
    "    \n",
    "  if guess > number:\n",
    "    guessesLeft=str(guessesLeft)\n",
    "    print(\"Way upper! You have \" + guessesLeft + \" guesses left\")\n",
    "    \n",
    "  if abs(guess - number) < 8:\n",
    "        print('Close')\n",
    "\n",
    "  if guess==number:\n",
    "    break\n",
    "\n",
    "if guess==number:\n",
    "  numberofGuesses=str(numberofGuesses)\n",
    "  print(\"Bigo! You guessed the number in \" + numberofGuesses + \" tries :)\")\n",
    "\n",
    "if guess!=number:\n",
    "  number=str(number)\n",
    "  print(\"Sorry. The number to guess was \" + number + \" :)\")"
   ]
  },
  {
   "cell_type": "code",
   "execution_count": null,
   "metadata": {},
   "outputs": [],
   "source": []
  }
 ],
 "metadata": {
  "kernelspec": {
   "display_name": "Python 3",
   "language": "python",
   "name": "python3"
  },
  "language_info": {
   "codemirror_mode": {
    "name": "ipython",
    "version": 3
   },
   "file_extension": ".py",
   "mimetype": "text/x-python",
   "name": "python",
   "nbconvert_exporter": "python",
   "pygments_lexer": "ipython3",
   "version": "3.7.3"
  }
 },
 "nbformat": 4,
 "nbformat_minor": 2
}
