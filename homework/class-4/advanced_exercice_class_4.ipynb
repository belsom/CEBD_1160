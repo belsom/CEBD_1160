{
 "cells": [
  {
   "cell_type": "code",
   "execution_count": 1,
   "metadata": {},
   "outputs": [
    {
     "name": "stdout",
     "output_type": "stream",
     "text": [
      "Hello! What is your name?\n",
      "Sammy\n",
      "Well, Sammy, I am thinking of a number between 0 and 200.\n",
      "Guess the number\n",
      "21\n",
      "Lower\n",
      "Nope. The number to guess was 183\n",
      "Guess the number\n",
      "99\n"
     ]
    },
    {
     "ename": "TypeError",
     "evalue": "'<' not supported between instances of 'int' and 'str'",
     "output_type": "error",
     "traceback": [
      "\u001b[0;31m---------------------------------------------------------------------------\u001b[0m",
      "\u001b[0;31mTypeError\u001b[0m                                 Traceback (most recent call last)",
      "\u001b[0;32m<ipython-input-1-4bd75ca2f1af>\u001b[0m in \u001b[0;36m<module>\u001b[0;34m\u001b[0m\n\u001b[1;32m     19\u001b[0m     \u001b[0mguessesTaken\u001b[0m \u001b[0;34m=\u001b[0m \u001b[0mguessesTaken\u001b[0m \u001b[0;34m+\u001b[0m \u001b[0;36m1\u001b[0m\u001b[0;34m\u001b[0m\u001b[0;34m\u001b[0m\u001b[0m\n\u001b[1;32m     20\u001b[0m \u001b[0;34m\u001b[0m\u001b[0m\n\u001b[0;32m---> 21\u001b[0;31m     \u001b[0;32mif\u001b[0m \u001b[0mguess\u001b[0m \u001b[0;34m<\u001b[0m \u001b[0mnumber\u001b[0m\u001b[0;34m:\u001b[0m\u001b[0;34m\u001b[0m\u001b[0;34m\u001b[0m\u001b[0m\n\u001b[0m\u001b[1;32m     22\u001b[0m         \u001b[0mprint\u001b[0m\u001b[0;34m(\u001b[0m\u001b[0;34m'Lower'\u001b[0m\u001b[0;34m)\u001b[0m\u001b[0;34m\u001b[0m\u001b[0;34m\u001b[0m\u001b[0m\n\u001b[1;32m     23\u001b[0m \u001b[0;34m\u001b[0m\u001b[0m\n",
      "\u001b[0;31mTypeError\u001b[0m: '<' not supported between instances of 'int' and 'str'"
     ]
    }
   ],
   "source": [
    "# 1. The function picks a number between 0 and 200. Then you should input different values until you guess the hidden number correctly. The function would return “way upper”,\n",
    "#“upper”, “lower”, “way lower”, “close”, ”bigo”. It’s your choice to pick the ranges you want to use for responses. \n",
    "\n",
    "import random\n",
    "\n",
    "guessesTaken = 0\n",
    "\n",
    "print('Hello! What is your name?')\n",
    "myName = input()\n",
    "number = random.randint(0, 200)\n",
    "print('Well, ' + myName + ', I am thinking of a number between 0 and 200.')\n",
    "\n",
    "while guessesTaken < 10:\n",
    "    print('Guess the number') \n",
    "\n",
    "    guess = input()\n",
    "    guess = int(guess)\n",
    "    \n",
    "    guessesTaken = guessesTaken + 1\n",
    "    \n",
    "    if guess < number:\n",
    "        print('Lower') \n",
    " \n",
    "    if guess > number:\n",
    "        print('Upper')\n",
    "\n",
    "    if guess == number:\n",
    "        break\n",
    "\n",
    "    if guess == number:\n",
    "        guessesTaken = str(guessesTaken)\n",
    "        \n",
    "        print('Bigo ' + myName + '! You guessed the right number in ' + guessesTaken + ' guesses!')\n",
    "    \n",
    "    if guess != number:\n",
    "        number = str(number)\n",
    "        print('Nope. The number to guess was ' + number)"
   ]
  },
  {
   "cell_type": "code",
   "execution_count": null,
   "metadata": {},
   "outputs": [],
   "source": []
  }
 ],
 "metadata": {
  "kernelspec": {
   "display_name": "Python 3",
   "language": "python",
   "name": "python3"
  },
  "language_info": {
   "codemirror_mode": {
    "name": "ipython",
    "version": 3
   },
   "file_extension": ".py",
   "mimetype": "text/x-python",
   "name": "python",
   "nbconvert_exporter": "python",
   "pygments_lexer": "ipython3",
   "version": "3.7.3"
  }
 },
 "nbformat": 4,
 "nbformat_minor": 2
}
